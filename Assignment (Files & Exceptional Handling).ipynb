{
 "cells": [
  {
   "cell_type": "markdown",
   "id": "f6e0b388-ee9d-45dc-9bf5-166e8dc9a72d",
   "metadata": {},
   "source": [
    "# Question (4) Write a Python program using multithreading where one thread adds numbers to a list, and another thread removes numbers from the list. Implement a mechanism to avoid race conditions using threading.Lock."
   ]
  },
  {
   "cell_type": "markdown",
   "id": "70e3fe9e-c122-405b-9be1-6bbc45c1bf59",
   "metadata": {},
   "source": [
    "## Answer : Multithreading is a programming concept that allows a computer to run multiple tasks at the same time by dividing work into smaller units called threads."
   ]
  },
  {
   "cell_type": "code",
   "execution_count": 4,
   "id": "d90f3306-ebb6-4855-b575-f73329aabf68",
   "metadata": {},
   "outputs": [
    {
     "name": "stdout",
     "output_type": "stream",
     "text": [
      "List is empty, nothing to remove.\n",
      "List is empty, nothing to remove.\n",
      "Added 91. List now: [91]\n",
      "Removed 91. List now: []\n",
      "Added 88. List now: [88]\n",
      "Added 90. List now: [88, 90]\n",
      "Removed 88. List now: [90]\n",
      "Added 27. List now: [90, 27]\n",
      "Added 43. List now: [90, 27, 43]\n",
      "Removed 90. List now: [27, 43]\n",
      "Added 4. List now: [27, 43, 4]\n",
      "Removed 27. List now: [43, 4]\n",
      "Added 34. List now: [43, 4, 34]\n",
      "Removed 43. List now: [4, 34]\n",
      "Removed 4. List now: [34]\n",
      "Added 88. List now: [34, 88]\n",
      "Removed 34. List now: [88]\n",
      "Added 48. List now: [88, 48]\n",
      "Removed 88. List now: [48]\n",
      "Added 31. List now: [48, 31]\n",
      "Removed 48. List now: [31]\n",
      "Added 36. List now: [31, 36]\n",
      "Removed 31. List now: [36]\n",
      "Added 52. List now: [36, 52]\n",
      "Removed 36. List now: [52]\n",
      "Added 36. List now: [52, 36]\n",
      "Removed 52. List now: [36]\n",
      "Added 65. List now: [36, 65]\n",
      "Removed 36. List now: [65]\n",
      "Added 40. List now: [65, 40]\n",
      "Removed 65. List now: [40]\n",
      "Added 54. List now: [40, 54]\n",
      "Removed 40. List now: [54]\n",
      "Added 34. List now: [54, 34]\n",
      "Added 89. List now: [54, 34, 89]\n",
      "Removed 54. List now: [34, 89]\n",
      "Removed 34. List now: [89]\n",
      "Removed 89. List now: []\n",
      "Added 18. List now: [18]\n",
      "Removed 18. List now: []\n",
      "Added 87. List now: [87]\n",
      "Added 1. List now: [87, 1]\n",
      "Added 96. List now: [87, 1, 96]\n",
      "Removed 87. List now: [1, 96]\n"
     ]
    }
   ],
   "source": [
    "import threading\n",
    "import time\n",
    "import random\n",
    "\n",
    "# Shared list\n",
    "shared_list = []\n",
    "\n",
    "# Lock for synchronizing access to shared_list\n",
    "list_lock = threading.Lock()\n",
    "\n",
    "# Function for adding numbers to the list\n",
    "def add_to_list():\n",
    "    while True:\n",
    "        # Simulating some delay\n",
    "        time.sleep(random.uniform(0.1, 0.5))\n",
    "        \n",
    "        # Acquire the lock before modifying the list\n",
    "        with list_lock:\n",
    "            number = random.randint(1, 100)\n",
    "            shared_list.append(number)\n",
    "            print(f\"Added {number}. List now: {shared_list}\")\n",
    "\n",
    "# Function for removing numbers from the list\n",
    "def remove_from_list():\n",
    "    while True:\n",
    "        # Simulating some delay\n",
    "        time.sleep(random.uniform(0.1, 0.5))\n",
    "        \n",
    "        # Acquire the lock before modifying the list\n",
    "        with list_lock:\n",
    "            if shared_list:\n",
    "                removed_number = shared_list.pop(0)\n",
    "                print(f\"Removed {removed_number}. List now: {shared_list}\")\n",
    "            else:\n",
    "                print(\"List is empty, nothing to remove.\")\n",
    "\n",
    "# Create threads\n",
    "adder_thread = threading.Thread(target=add_to_list)\n",
    "remover_thread = threading.Thread(target=remove_from_list)\n",
    "\n",
    "# Start threads\n",
    "adder_thread.start()\n",
    "remover_thread.start()\n",
    "\n",
    "# Let the threads run for a while\n",
    "time.sleep(5)\n",
    "\n",
    "# Stop the threads (for demonstration purposes; in practice, you'd use more sophisticated thread termination)\n",
    "adder_thread.join(timeout=1)\n",
    "remover_thread.join(timeout=1)"
   ]
  },
  {
   "cell_type": "markdown",
   "id": "6e8f1230-a07a-4c1d-af68-839a8745a32e",
   "metadata": {},
   "source": [
    "# Question (7) Create a program that uses a thread pool to calculate the factorial of numbers from 1 to 10 concurrently.Use concurrent.futures.ThreadPoolExecutor to manage the threads."
   ]
  },
  {
   "cell_type": "markdown",
   "id": "f4a80092-16ef-4e09-bc39-828b4ccc6532",
   "metadata": {},
   "source": [
    "## Answer : A ThreadPoolExecutor is a class/ an Executor subclass that manages a pool of threads to execute tasks asynchronously.Deadlocks can occur when the callable associated with a Future waits on the results of another Future."
   ]
  },
  {
   "cell_type": "code",
   "execution_count": 15,
   "id": "1fc8d624-a4b5-4b35-a5a3-af1673031788",
   "metadata": {},
   "outputs": [
    {
     "name": "stdout",
     "output_type": "stream",
     "text": [
      "Added 95. List now: [80, 95]\n",
      "Calculating factorial of 1\n",
      "Calculating factorial of 2\n",
      "Calculating factorial of 3\n",
      "Calculating factorial of 4\n",
      "Calculating factorial of 5\n",
      "Calculating factorial of 6\n",
      "Calculating factorial of 7\n",
      "Calculating factorial of 8\n",
      "Calculating factorial of 9\n",
      "Factorial of 6 is 720\n",
      "Factorial of 8 is 40320\n",
      "Factorial of 2 is 2\n",
      "Factorial of 9 is 362880\n",
      "Factorial of 1 is 1\n",
      "Factorial of 4 is 24\n",
      "Factorial of 5 is 120\n",
      "Factorial of 7 is 5040\n",
      "Factorial of 3 is 6\n",
      "Calculating factorial of 10\n",
      "Factorial of 10 is 3628800\n"
     ]
    }
   ],
   "source": [
    "import concurrent.futures\n",
    "import math\n",
    "\n",
    "# Function to calculate factorial of a number\n",
    "def factorial(n):\n",
    "    print(f\"Calculating factorial of {n}\")\n",
    "    return math.factorial(n)\n",
    "\n",
    "def main():\n",
    "# Create a thread pool executor with a limited number of threads\n",
    "    \n",
    "    with concurrent.futures.ThreadPoolExecutor(max_workers=5) as executor:\n",
    "        \n",
    "# Submit tasks to the executor for numbers 1 to 10\n",
    "        \n",
    "        futures = {executor.submit(factorial, num): num for num in range(1, 11)}\n",
    "        \n",
    "# Process the results as they complete\n",
    "        for future in concurrent.futures.as_completed(futures):\n",
    "            num = futures[future]\n",
    "            try:\n",
    "                result = future.result()\n",
    "                print(f\"Factorial of {num} is {result}\")\n",
    "            except Exception as e:\n",
    "                print(f\"Error calculating factorial of {num}: {e}\")\n",
    "\n",
    "if __name__ == \"__main__\":\n",
    "    main()"
   ]
  },
  {
   "cell_type": "markdown",
   "id": "f7bf3dce-f007-41e1-a1df-64d2feb0ef87",
   "metadata": {},
   "source": [
    "# Question (8) Create a Python program that uses multiprocessing.Pool to compute the square of numbers from 1 to 10 in parallel. Measure the time taken to perform this computation using a pool of different sizes (e.g., 2, 4, 8 processes)."
   ]
  },
  {
   "cell_type": "markdown",
   "id": "cedad210-261b-4111-8aec-6ec2c4080982",
   "metadata": {},
   "source": [
    "## Answer : Multiprocessing in Python is a way to perform multiple tasks simultaneously.that is a built-in package that allows the system to run multiple processes simultaneously. It will enable the breaking of applications into smaller threads that can run independently."
   ]
  },
  {
   "cell_type": "markdown",
   "id": "0e76f064-2a23-48ca-b9fa-fa6f39956c2a",
   "metadata": {},
   "source": [
    "##### compute the square of numbers from 1 to 10 in parallel"
   ]
  },
  {
   "cell_type": "code",
   "execution_count": null,
   "id": "bf676503-ec0f-4898-b56a-9ecbe03ba1a3",
   "metadata": {},
   "outputs": [],
   "source": [
    "#using multiprocessing.pool\n",
    "import multiprocessing\n",
    "import time\n",
    "\n",
    "start = time.perf_counter()\n",
    "def square(no):\n",
    "    result = no*no\n",
    "    print(f\"The square of {no} is {result}.\")\n",
    "\n",
    "numbers = [1,2,3,4,5,6,7,8,9,10]\n",
    "\n",
    "with multiprocessing.Pool() as pool:\n",
    "    pool.map(square,numbers)\n",
    "\n",
    "end = time.perf_counter()\n",
    "\n",
    "print(f\"The program finised in {round(end-start,2)} seconds\")"
   ]
  },
  {
   "cell_type": "code",
   "execution_count": null,
   "id": "a5370dd5-8514-4348-acb7-94e87cb05bcb",
   "metadata": {},
   "outputs": [],
   "source": [
    "import multiprocessing\n",
    "import time\n",
    "\n",
    "# Function to calculate the square of a number\n",
    "def square(n):\n",
    "    return n * n\n",
    "\n",
    "# Function to measure the time taken to compute squares using different pool sizes\n",
    "def measure_time(pool_size): # List of numbers from 1 to 10\n",
    "    numbers = list(range(1, 11))\n",
    "    \n",
    "    # Start the timer\n",
    "    start_time = time.time()\n",
    "    \n",
    "    # Create a pool with the given pool size\n",
    "    with multiprocessing.Pool(pool_size) as pool:\n",
    "        # Compute the square of numbers in parallel\n",
    "        results = pool.map(square, numbers)\n",
    "    \n",
    "    # Stop the timer\n",
    "    end_time = time.time()\n",
    "    \n",
    "    # Print the results and time taken\n",
    "    print(f\"Pool size: {pool_size}\")\n",
    "    print(f\"Squares: {results}\")\n",
    "    print(f\"Time taken: {end_time - start_time:.4f} seconds\\n\")\n",
    "\n",
    "if __name__ == \"__main__\":\n",
    "    # Measure time with pool sizes of 2, 4, and 8\n",
    "    for pool_size in [2, 4, 8]:\n",
    "        measure_time(pool_size)"
   ]
  },
  {
   "cell_type": "code",
   "execution_count": null,
   "id": "4695cb6b-c216-4104-b391-4a6f9daee50e",
   "metadata": {},
   "outputs": [],
   "source": []
  },
  {
   "cell_type": "code",
   "execution_count": null,
   "id": "67c22f02-f8ba-464f-8095-0d3a0d0d046e",
   "metadata": {},
   "outputs": [],
   "source": []
  }
 ],
 "metadata": {
  "kernelspec": {
   "display_name": "Python 3 (ipykernel)",
   "language": "python",
   "name": "python3"
  },
  "language_info": {
   "codemirror_mode": {
    "name": "ipython",
    "version": 3
   },
   "file_extension": ".py",
   "mimetype": "text/x-python",
   "name": "python",
   "nbconvert_exporter": "python",
   "pygments_lexer": "ipython3",
   "version": "3.12.4"
  }
 },
 "nbformat": 4,
 "nbformat_minor": 5
}
